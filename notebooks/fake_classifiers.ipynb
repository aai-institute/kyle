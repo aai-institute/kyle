{
 "cells": [
  {
   "cell_type": "code",
   "execution_count": null,
   "metadata": {},
   "outputs": [],
   "source": [
    "import numpy as np\n",
    "\n",
    "%load_ext autoreload\n",
    "%autoreload 2"
   ]
  },
  {
   "cell_type": "code",
   "execution_count": null,
   "metadata": {},
   "outputs": [],
   "source": [
    "import logging\n",
    "\n",
    "from kyle.evaluation import EvalStats\n",
    "from kyle.sampling.fake_clf import DirichletFC\n",
    "from kyle.transformations import *\n",
    "import matplotlib.pyplot as plt\n",
    "\n",
    "logging.basicConfig(level=logging.INFO)"
   ]
  },
  {
   "cell_type": "code",
   "execution_count": null,
   "metadata": {},
   "outputs": [],
   "source": [
    "n_samples = 100000"
   ]
  },
  {
   "cell_type": "markdown",
   "metadata": {},
   "source": [
    "# Dirichlet fake classifiers\n",
    "\n",
    "Add explanation about the model and integrals\n",
    "\n",
    "## Computing properties with integrals\n",
    "\n",
    "The asymptotic values for ECE and accuracy can be computed through (numerical or analytical)\n",
    "integration."
   ]
  },
  {
   "cell_type": "code",
   "execution_count": null,
   "metadata": {},
   "outputs": [],
   "source": [
    "n_classes = 3\n",
    "alpha = [0.2, 0.3, 0.4]\n",
    "\n",
    "dirichlet_fc = DirichletFC(n_classes, alpha=alpha)"
   ]
  },
  {
   "cell_type": "code",
   "execution_count": null,
   "metadata": {},
   "outputs": [],
   "source": [
    "print(\n",
    "    \"mostly overestimating all classes (starting at 1/n_classes) with PowerLawSimplexAut\"\n",
    ")\n",
    "transform = PowerLawSimplexAut(np.array([2, 2, 2]))\n",
    "dirichlet_fc.set_simplex_automorphism(transform)\n",
    "\n",
    "\n",
    "eval_stats = EvalStats(*dirichlet_fc.get_sample_arrays(n_samples))\n",
    "\n",
    "print(f\"Accuracy is {eval_stats.accuracy()}\")\n",
    "print(f\"ECE is {eval_stats.expected_calibration_error(n_bins=200)}\")\n",
    "ece_approx = eval_stats.expected_confidence() - eval_stats.accuracy()\n",
    "print(f\"{ece_approx=}\")\n",
    "eval_stats.plot_reliability_curves(\n",
    "    [0, 1, \"top_class\"], display_weights=True, n_bins=200\n",
    ")\n",
    "plt.show()\n",
    "\n",
    "\n",
    "# theoretical_acc = compute_accuracy(dirichlet_fc)[0]\n",
    "# theoretical_ece = compute_ECE(dirichlet_fc)[0]\n",
    "# print(f\"{theoretical_acc=} , {theoretical_ece=}\")"
   ]
  },
  {
   "cell_type": "code",
   "execution_count": null,
   "metadata": {},
   "outputs": [],
   "source": [
    "print(\n",
    "    \"mostly underestimating all classes (starting at 1/n_classes) with PowerLawSimplexAut\"\n",
    ")\n",
    "print(\"Note the variance and the resulting sensitivity to binning\")\n",
    "\n",
    "transform = PowerLawSimplexAut(np.array([0.3, 0.1, 0.2]))\n",
    "dirichlet_fc.set_simplex_automorphism(transform)\n",
    "eval_stats = EvalStats(*dirichlet_fc.get_sample_arrays(n_samples))\n",
    "\n",
    "print(f\"Accuracy is {eval_stats.accuracy()}\")\n",
    "print(f\"ECE is {eval_stats.expected_calibration_error()}\")\n",
    "ece_approx = -eval_stats.expected_confidence() + eval_stats.accuracy()\n",
    "print(f\"{ece_approx=}\")\n",
    "eval_stats.plot_reliability_curves([0, 1, \"top_class\"], display_weights=True)\n",
    "plt.show()\n",
    "\n",
    "\n",
    "# theoretical_acc = compute_accuracy(dirichlet_fc)[0]\n",
    "# theoretical_ece = compute_ECE(dirichlet_fc)[0]\n",
    "# print(f\"{theoretical_acc=} , {theoretical_ece=}\")"
   ]
  },
  {
   "cell_type": "code",
   "execution_count": null,
   "metadata": {},
   "outputs": [],
   "source": [
    "print(\"Underestimating predictions with MaxComponent\")\n",
    "\n",
    "\n",
    "def overestimating_max(x: np.ndarray):\n",
    "    x = x.copy()\n",
    "    mask = x > 1 / 2\n",
    "    x[mask] = x[mask] - (1 / 4 - (1 - x[mask]) ** 2)\n",
    "    return x\n",
    "\n",
    "\n",
    "transform = MaxComponentSimplexAut(overestimating_max)\n",
    "dirichlet_fc.set_simplex_automorphism(transform)\n",
    "eval_stats = EvalStats(*dirichlet_fc.get_sample_arrays(n_samples))\n",
    "\n",
    "print(f\"Accuracy is {eval_stats.accuracy()}\")\n",
    "print(f\"ECE is {eval_stats.expected_calibration_error()}\")\n",
    "eval_stats.plot_reliability_curves([0, 1, \"top_class\"], display_weights=True)\n",
    "plt.show()\n",
    "\n",
    "# Integrals converge pretty slowly, this takes time\n",
    "# theoretical_acc = compute_accuracy(dirichlet_fc, opts={\"limit\": 75})[0]\n",
    "# theoretical_ece = compute_ECE(dirichlet_fc, opts={\"limit\": 75})[0]\n",
    "# print(f\"{theoretical_acc=} , {theoretical_ece=}\")"
   ]
  },
  {
   "cell_type": "markdown",
   "metadata": {},
   "source": [
    "# Analytical results\n",
    "\n",
    "For top-class overconfident classifiers we have\n",
    "\n",
    "$ECE_i = \\int_{A_i} \\ (c_i - h_i(\\vec c)) \\cdot p(\\vec c)$\n",
    "\n",
    "$acc_i = \\int_{A_i} \\ h_i(\\vec c) \\cdot p(\\vec c)$\n",
    "\n",
    "In many relevant regimes, the DirichletFC can be approximately regarded as sufficiently confident.\n",
    "This means we can approximate ECE and accuracy as:\n",
    "\n",
    "$ECE_i \\  \\lessapprox \\ \\int_{\\tilde A_i} \\ (c_i - h_i(\\vec c)) \\cdot p(\\vec c)$\n",
    "\n",
    "$acc_i \\ \\lessapprox \\ \\int_{\\tilde A_i} \\ h_i(\\vec c) \\cdot p(\\vec c)$\n",
    "\n",
    "We can explicitly calculate the first part of the ECE:\n",
    "\n",
    "$ \\int_{\\tilde A_i} \\ c_i \\cdot p(\\vec c) = \\frac{\\alpha_i}{\\alpha_0}\n",
    "\\left(1 - (\\alpha_0-\\alpha_i) \\ \\beta(1/2;\\ \\alpha_i + 1, \\alpha_0-\\alpha_i) \\ \\binom{\\alpha_0}{\\alpha_i} \\right)$\n",
    "\n",
    "As expected, when $\\alpha_i \\rightarrow \\alpha_0$, this expression goes to one"
   ]
  },
  {
   "cell_type": "markdown",
   "metadata": {},
   "source": [
    "The second part depends on the simplex automorphism $h$.\n",
    "We can sort of compute it for the RestrictedPowerAut and for some MaxComponentSimplexAut.\n",
    "However, both transforms seem to be rather on the pathological side of things..."
   ]
  },
  {
   "cell_type": "code",
   "execution_count": null,
   "metadata": {},
   "outputs": [],
   "source": [
    "print(\"mostly overestimating first two classes with RestrictedPowerSimplexAut\")\n",
    "\n",
    "transform = RestrictedPowerSimplexAut(np.array([2, 4]))\n",
    "dirichlet_fc.set_simplex_automorphism(transform)\n",
    "eval_stats = EvalStats(*dirichlet_fc.get_sample_arrays(n_samples))\n",
    "\n",
    "print(f\"Accuracy is {eval_stats.accuracy()}\")\n",
    "print(f\"ECE is {eval_stats.expected_calibration_error()}\")\n",
    "print(\"Theoretical approximation of ECE\")\n",
    "print(eval_stats.expected_confidence() - eval_stats.accuracy())\n",
    "eval_stats.plot_reliability_curves([0, 1, 2, \"top_class\"], display_weights=True)\n",
    "plt.show()\n",
    "\n",
    "\n",
    "# theoretical_acc = compute_accuracy(dirichlet_fc)[0]\n",
    "# theoretical_ece = compute_ECE(dirichlet_fc)[0]\n",
    "# print(f\"{theoretical_acc=} , {theoretical_ece=}\")"
   ]
  },
  {
   "cell_type": "markdown",
   "metadata": {},
   "source": [
    "## The Calibration Game\n",
    "\n",
    "Below are potential 5-classes classifiers that we will use in the calibration game.\n",
    "They all have roughly the same accuracy but very differing ECEs, corresponding to\n",
    "different difficulty settings for the game."
   ]
  },
  {
   "cell_type": "code",
   "execution_count": null,
   "metadata": {},
   "outputs": [],
   "source": [
    "n_classes = 5\n",
    "n_samples = 500000"
   ]
  },
  {
   "cell_type": "code",
   "execution_count": null,
   "metadata": {},
   "outputs": [],
   "source": [
    "print(\"hardest setting: accuracy 80, ECE 18\")\n",
    "\n",
    "exponents = np.array([0.05, 0.4, 0.1, 0.2, 0.1]) * 2 / 3\n",
    "alpha = np.ones(5) * 1 / 150\n",
    "\n",
    "# exponents = np.ones(5) * 1/5\n",
    "# alpha = np.ones(5) * 1/45\n",
    "\n",
    "dirichlet_fc = DirichletFC(n_classes, alpha=alpha)\n",
    "transform = PowerLawSimplexAut(exponents)\n",
    "dirichlet_fc.set_simplex_automorphism(transform)\n",
    "eval_stats = EvalStats(*dirichlet_fc.get_sample_arrays(n_samples))\n",
    "\n",
    "print(f\"Accuracy is {eval_stats.accuracy()}\")\n",
    "print(f\"ECE is {eval_stats.expected_calibration_error(n_bins=200)}\")\n",
    "eval_stats.plot_reliability_curves([0, \"top_class\"], display_weights=True)\n",
    "plt.show()"
   ]
  },
  {
   "cell_type": "code",
   "execution_count": null,
   "metadata": {},
   "outputs": [],
   "source": [
    "print(\"medium setting: accuracy 80, ECE 10\")\n",
    "\n",
    "exponents = np.array([0.5, 1, 1, 1, 0.5]) * 1 / 1.8\n",
    "alpha = np.array([0.5, 2, 3, 4, 5]) * 1 / 65\n",
    "\n",
    "n_samples = 300000\n",
    "n_classes = 5\n",
    "\n",
    "\n",
    "dirichlet_fc = DirichletFC(n_classes, alpha=alpha)\n",
    "transform = PowerLawSimplexAut(exponents)\n",
    "dirichlet_fc.set_simplex_automorphism(transform)\n",
    "eval_stats = EvalStats(*dirichlet_fc.get_sample_arrays(n_samples))\n",
    "\n",
    "print(f\"Accuracy is {eval_stats.accuracy()}\")\n",
    "print(f\"ECE is {eval_stats.expected_calibration_error(n_bins=200)}\")\n",
    "eval_stats.plot_reliability_curves([4, \"top_class\"], display_weights=True)\n",
    "plt.show()"
   ]
  },
  {
   "cell_type": "code",
   "execution_count": null,
   "metadata": {},
   "outputs": [],
   "source": [
    "print(\"mostly underestimating all classes (starting at 1/n_classes)\")\n",
    "\n",
    "\n",
    "# accuracy 80, ECE 0\n",
    "alpha = np.array([1, 2, 3, 2, 3]) * 1 / 19\n",
    "\n",
    "n_samples = 300000\n",
    "n_classes = 5\n",
    "\n",
    "dirichlet_fc = DirichletFC(n_classes, alpha=alpha)\n",
    "eval_stats = EvalStats(*dirichlet_fc.get_sample_arrays(n_samples))\n",
    "\n",
    "print(f\"Accuracy is {eval_stats.accuracy()}\")\n",
    "print(f\"ECE is {eval_stats.expected_calibration_error()}\")\n",
    "eval_stats.plot_reliability_curves([4, \"top_class\"], display_weights=True)\n",
    "plt.show()"
   ]
  }
 ],
 "metadata": {
  "kernelspec": {
   "display_name": "Python 3",
   "language": "python",
   "name": "python3"
  },
  "language_info": {
   "codemirror_mode": {
    "name": "ipython",
    "version": 2
   },
   "file_extension": ".py",
   "mimetype": "text/x-python",
   "name": "python",
   "nbconvert_exporter": "python",
   "pygments_lexer": "ipython2",
   "version": "2.7.6"
  }
 },
 "nbformat": 4,
 "nbformat_minor": 0
}
